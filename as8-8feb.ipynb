{
 "cells": [
  {
   "cell_type": "code",
   "execution_count": 2,
   "id": "6e905f92-6701-4509-8652-da17536a30e1",
   "metadata": {},
   "outputs": [
    {
     "name": "stdout",
     "output_type": "stream",
     "text": [
      "The mileage is 30kmph\n",
      "The mileage is 27kmph \n",
      "The mileage is 25kmph \n",
      "The mileage is 24kmph \n"
     ]
    },
    {
     "data": {
      "text/plain": [
       "'This is just to make you visualize what actually data encapsulation and abstraction means.Here in this program,\\nthe encapsulation we achieved by storing the code of each module at a specific place i.e different methods.\\nThe abstraction we achieved by dividing the complete information or data into category i.e. [ bio() and interest() ] \\nso that it can be reused.'"
      ]
     },
     "execution_count": 2,
     "metadata": {},
     "output_type": "execute_result"
    }
   ],
   "source": [
    "\"\"\"Q1. What is Abstraction in OOps? Explain with an example.\n",
    "ans--Abstraction is the process of hiding the internal details of an application from the outer world. \n",
    "Abstraction is used to describe things in simple terms. \n",
    "It’s used to create a boundary between the application and the client programs.\n",
    " This is one of the core concepts of object-oriented programming (OOP) languages. \n",
    " That enables the user to implement even more complex logic on top of the provided abstraction without understanding\n",
    " or even thinking about all the hidden background/back-end complexity.\n",
    "ex-\"\"\"\n",
    "from abc import ABC, abstractmethod   \n",
    "class Car(ABC):   \n",
    "    def mileage(self):   \n",
    "        pass  \n",
    "  \n",
    "class Tesla(Car):   \n",
    "    def mileage(self):   \n",
    "        print(\"The mileage is 30kmph\")   \n",
    "class Suzuki(Car):   \n",
    "    def mileage(self):   \n",
    "        print(\"The mileage is 25kmph \")   \n",
    "class Duster(Car):   \n",
    "     def mileage(self):   \n",
    "          print(\"The mileage is 24kmph \")   \n",
    "  \n",
    "class Renault(Car):   \n",
    "    def mileage(self):   \n",
    "            print(\"The mileage is 27kmph \")   \n",
    "          \n",
    "# Driver code   \n",
    "t= Tesla ()   \n",
    "t.mileage()   \n",
    "  \n",
    "r = Renault()   \n",
    "r.mileage()   \n",
    "  \n",
    "s = Suzuki()   \n",
    "s.mileage()   \n",
    "d = Duster()   \n",
    "d.mileage()  \n",
    "\"\"\"In the above code, we have imported the abc module to create the abstract base class.\n",
    "We created the Car class that inherited the ABC class and defined an abstract method named mileage().\n",
    "We have then inherited the base class from the three different subclasses and implemented the abstract method differently.\n",
    "We created the objects to call the abstract method.\"\"\""
   ]
  },
  {
   "cell_type": "code",
   "execution_count": null,
   "id": "9e99a60a-9cf2-4287-a80a-729953882973",
   "metadata": {},
   "outputs": [],
   "source": [
    "\"\"\"Q2. Differentiate between Abstraction and Encapsulation. Explain with an example.\n",
    "ans-Definition\n",
    "Abstraction is hiding the details and implementation of the code.\n",
    "Encapsulation is hiding the data and controlling the visibility of the code.\n",
    "Phase\n",
    "Abstraction is a design level process.\n",
    "Encapsulation is an implementation level process.\n",
    "Pivotal Ability\n",
    "Abstraction is concerned about what a class instance can do, instead of the implementation of the class.\n",
    "Encapsulation helps in data binding and control over maintaining the transparency of the data.\n",
    "Use Case\n",
    "Abstraction is a design level process and it is used to reduce the complexity at the designing stage of a project.\n",
    "Encapsulation is an implementation level process, and it is used to provide privacy and maintain control over \n",
    "the transparency of data at the implementation stage of a project.\n",
    "\n",
    "Example:        \n",
    "\n",
    "You can better understand Encapsulation vs Abstraction with an example.\n",
    "Abstraction is used in mobile phones’ GUI. When you click on the icons, abstraction allows them to perform specific functions.\n",
    "Let’s look at the encapsulation example to clarify the Encapsulation vs Abstraction.\n",
    "After the icon is clicked, the encapsulation works in the backend to guide the user on the next steps.\"\"\""
   ]
  },
  {
   "cell_type": "code",
   "execution_count": null,
   "id": "6daedc09-8d69-4c23-a012-23959869c58b",
   "metadata": {},
   "outputs": [],
   "source": [
    "\"\"\"Q3. What is abc module in python? Why is it used?\n",
    "Abstract base classes provide a way to define interfaces when other techniques like hasattr() would \n",
    "be clumsy or subtly wrong (for example with magic methods). ABCs introduce virtual subclasses,\n",
    "which are classes that don’t inherit from a class but are still recognized by isinstance() and issubclass() functions.\n",
    "There are many built-in ABCs in Python. ABCs for Data structures like Iterator, Generator, Set, mapping etc.\n",
    "are defined in collections.abc module. The numbers module defines numeric tower which is a collection of base classes\n",
    "for numeric data types. The 'abc' module in Python library provides the infrastructure for defining custom abstract base classes.\n",
    "\n",
    "'abc' works by marking methods of the base class as abstract.\n",
    "This is done by @absttractmethod decorator. A concrete class which is a sub class of such abstract base class then \n",
    "implements the abstract base by overriding its abstract methods.\n",
    "\n",
    "The abc module defines ABCMeta class which is a metaclass for defining abstract base class.\n",
    "It is used to make the method of the abstract class as an abstract method.\"\"\""
   ]
  },
  {
   "cell_type": "code",
   "execution_count": null,
   "id": "531e4164-787d-4d9b-bf92-3ff7a8cf1a1d",
   "metadata": {},
   "outputs": [],
   "source": [
    "\"\"\"Q4. How can we achieve data abstraction?\n",
    "Data abstraction is the process of hiding the underlying complexity of data and presenting it in a simplified form that \n",
    "is easier to understand and use. It can be achieved in several ways:\n",
    "\n",
    "Abstraction Layers: Abstraction layers are a set of intermediate representations of data that hide the complexity of \n",
    "the underlying data and present it in a simplified form. For example, an operating system provides an abstraction layer \n",
    "between the hardware and the software, allowing software to interact with the hardware without requiring knowledge of the \n",
    "underlying complexity.\n",
    "\n",
    "Encapsulation: Encapsulation is a technique in which the internal representation of an object is hidden from the outside world,\n",
    "and the object can be manipulated only through a well-defined interface. This allows data to be abstracted and protects it \n",
    "from unintended modifications.\n",
    "\n",
    "Abstract Data Types: Abstract data types are data structures that define a set of operations that can be performed on the data,\n",
    "but hide the underlying implementation details. For example, a stack is an abstract data type that defines the \n",
    "operations \"push\" and \"pop\", but the underlying implementation of the stack could be a linked list, an array, or any other data structure.\n",
    "\n",
    "Interfaces: An interface is a set of rules that define how an object can interact with the outside world. Interfaces allow data to be\n",
    "abstracted by defining the operations that can be performed on the data, but hiding the underlying implementation details.\n",
    "\n",
    "Modularity: Modularity is the principle of breaking down a system into smaller, more manageable parts. By dividing a system into smaller,\n",
    "more manageable parts, each part can be treated as a separate abstract data type, making the overall system easier to understand and maintain.\n",
    "\n",
    "By using these techniques, it's possible to achieve data abstraction and make data easier to use and understand,\n",
    "while hiding the underlying complexity.\"\"\""
   ]
  },
  {
   "cell_type": "code",
   "execution_count": null,
   "id": "e2e78b55-3334-44d3-9229-d43f831995fa",
   "metadata": {},
   "outputs": [],
   "source": [
    "\"\"\"Q5. Can we create an instance of an abstract class? Explain your answer.\n"
   ]
  }
 ],
 "metadata": {
  "kernelspec": {
   "display_name": "Python 3 (ipykernel)",
   "language": "python",
   "name": "python3"
  },
  "language_info": {
   "codemirror_mode": {
    "name": "ipython",
    "version": 3
   },
   "file_extension": ".py",
   "mimetype": "text/x-python",
   "name": "python",
   "nbconvert_exporter": "python",
   "pygments_lexer": "ipython3",
   "version": "3.10.8"
  }
 },
 "nbformat": 4,
 "nbformat_minor": 5
}
